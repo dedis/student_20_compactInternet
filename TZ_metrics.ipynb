{
 "cells": [
  {
   "cell_type": "code",
   "execution_count": 17,
   "metadata": {},
   "outputs": [],
   "source": [
    "import pandas as pd\n",
    "import numpy as np\n",
    "import scipy.special \n",
    "import matplotlib.pyplot as plt\n",
    "import math"
   ]
  },
  {
   "cell_type": "markdown",
   "metadata": {},
   "source": [
    " # TZ metrics"
   ]
  },
  {
   "cell_type": "markdown",
   "metadata": {},
   "source": [
    "## Static route stretch"
   ]
  },
  {
   "cell_type": "code",
   "execution_count": 3,
   "metadata": {},
   "outputs": [],
   "source": [
    "def import_stretch(filename):\n",
    "    df = pd.read_csv(filename, names=[\"baseline_stretch\", \"audited_stretch\", \"respects_no_valley\"])\n",
    "    return df"
   ]
  },
  {
   "cell_type": "code",
   "execution_count": 4,
   "metadata": {},
   "outputs": [],
   "source": [
    "stretch_data = import_stretch(\"./simulation/data/full-stretch-2000.csv\")"
   ]
  },
  {
   "cell_type": "code",
   "execution_count": 5,
   "metadata": {},
   "outputs": [
    {
     "data": {
      "text/html": [
       "<div>\n",
       "<style scoped>\n",
       "    .dataframe tbody tr th:only-of-type {\n",
       "        vertical-align: middle;\n",
       "    }\n",
       "\n",
       "    .dataframe tbody tr th {\n",
       "        vertical-align: top;\n",
       "    }\n",
       "\n",
       "    .dataframe thead th {\n",
       "        text-align: right;\n",
       "    }\n",
       "</style>\n",
       "<table border=\"1\" class=\"dataframe\">\n",
       "  <thead>\n",
       "    <tr style=\"text-align: right;\">\n",
       "      <th></th>\n",
       "      <th>baseline_stretch</th>\n",
       "      <th>audited_stretch</th>\n",
       "      <th>respects_no_valley</th>\n",
       "    </tr>\n",
       "  </thead>\n",
       "  <tbody>\n",
       "    <tr>\n",
       "      <td>0</td>\n",
       "      <td>9</td>\n",
       "      <td>4</td>\n",
       "      <td>0</td>\n",
       "    </tr>\n",
       "    <tr>\n",
       "      <td>1</td>\n",
       "      <td>3</td>\n",
       "      <td>4</td>\n",
       "      <td>0</td>\n",
       "    </tr>\n",
       "    <tr>\n",
       "      <td>2</td>\n",
       "      <td>4</td>\n",
       "      <td>6</td>\n",
       "      <td>0</td>\n",
       "    </tr>\n",
       "    <tr>\n",
       "      <td>3</td>\n",
       "      <td>4</td>\n",
       "      <td>4</td>\n",
       "      <td>0</td>\n",
       "    </tr>\n",
       "    <tr>\n",
       "      <td>4</td>\n",
       "      <td>2</td>\n",
       "      <td>4</td>\n",
       "      <td>1</td>\n",
       "    </tr>\n",
       "    <tr>\n",
       "      <td>...</td>\n",
       "      <td>...</td>\n",
       "      <td>...</td>\n",
       "      <td>...</td>\n",
       "    </tr>\n",
       "    <tr>\n",
       "      <td>1986</td>\n",
       "      <td>2</td>\n",
       "      <td>4</td>\n",
       "      <td>0</td>\n",
       "    </tr>\n",
       "    <tr>\n",
       "      <td>1987</td>\n",
       "      <td>3</td>\n",
       "      <td>3</td>\n",
       "      <td>0</td>\n",
       "    </tr>\n",
       "    <tr>\n",
       "      <td>1988</td>\n",
       "      <td>4</td>\n",
       "      <td>6</td>\n",
       "      <td>0</td>\n",
       "    </tr>\n",
       "    <tr>\n",
       "      <td>1989</td>\n",
       "      <td>5</td>\n",
       "      <td>6</td>\n",
       "      <td>1</td>\n",
       "    </tr>\n",
       "    <tr>\n",
       "      <td>1990</td>\n",
       "      <td>4</td>\n",
       "      <td>4</td>\n",
       "      <td>0</td>\n",
       "    </tr>\n",
       "  </tbody>\n",
       "</table>\n",
       "<p>1991 rows × 3 columns</p>\n",
       "</div>"
      ],
      "text/plain": [
       "      baseline_stretch  audited_stretch  respects_no_valley\n",
       "0                    9                4                   0\n",
       "1                    3                4                   0\n",
       "2                    4                6                   0\n",
       "3                    4                4                   0\n",
       "4                    2                4                   1\n",
       "...                ...              ...                 ...\n",
       "1986                 2                4                   0\n",
       "1987                 3                3                   0\n",
       "1988                 4                6                   0\n",
       "1989                 5                6                   1\n",
       "1990                 4                4                   0\n",
       "\n",
       "[1991 rows x 3 columns]"
      ]
     },
     "execution_count": 5,
     "metadata": {},
     "output_type": "execute_result"
    }
   ],
   "source": [
    "stretch_data"
   ]
  },
  {
   "cell_type": "code",
   "execution_count": 6,
   "metadata": {},
   "outputs": [],
   "source": [
    "static_stretch = stretch_data.to_numpy()"
   ]
  },
  {
   "cell_type": "code",
   "execution_count": 7,
   "metadata": {},
   "outputs": [
    {
     "data": {
      "text/plain": [
       "Text(0.5, 1.0, 'Stretch combinations')"
      ]
     },
     "execution_count": 7,
     "metadata": {},
     "output_type": "execute_result"
    },
    {
     "data": {
      "image/png": "[encoded data removed]",
      "text/plain": [
       "<Figure size 432x288 with 1 Axes>"
      ]
     },
     "metadata": {
      "needs_background": "light"
     },
     "output_type": "display_data"
    }
   ],
   "source": [
    "plt.scatter(static_stretch[:,0], static_stretch[:,1])\n",
    "plt.title(\"Stretch combinations\")"
   ]
  },
  {
   "cell_type": "code",
   "execution_count": 8,
   "metadata": {},
   "outputs": [],
   "source": [
    "stretch_distr = static_stretch[:,1].astype(float) / static_stretch[:,0] \n",
    "stretch_distr = np.sort(stretch_distr)"
   ]
  },
  {
   "cell_type": "code",
   "execution_count": 9,
   "metadata": {},
   "outputs": [],
   "source": [
    "stretch_distr = np.array([[x[0], x.shape[0]] for x in np.split(stretch_distr, np.unique(stretch_distr, return_index=True)[1])[1:]])"
   ]
  },
  {
   "cell_type": "code",
   "execution_count": 10,
   "metadata": {},
   "outputs": [],
   "source": [
    "stretch_distr[:,1] = stretch_distr[:,1] / float(static_stretch.shape[0])"
   ]
  },
  {
   "cell_type": "code",
   "execution_count": 11,
   "metadata": {},
   "outputs": [
    {
     "data": {
      "text/plain": [
       "Text(0, 0.5, 'Fraction of paths')"
      ]
     },
     "execution_count": 11,
     "metadata": {},
     "output_type": "execute_result"
    },
    {
     "data": {
      "image/png": "[encoded data removed]",
      "text/plain": [
       "<Figure size 432x288 with 1 Axes>"
      ]
     },
     "metadata": {
      "needs_background": "light"
     },
     "output_type": "display_data"
    }
   ],
   "source": [
    "plt.gca().spines['top'].set_visible(False)\n",
    "plt.gca().spines['right'].set_visible(False)\n",
    "plt.plot(stretch_distr[:,0], stretch_distr[:,1], '--o', alpha=.7, label=\"Stretch PDF\")\n",
    "plt.plot(stretch_distr[:,0], np.cumsum(stretch_distr[:,1]), ':^', label=\"Stretch CDF\")\n",
    "#plt.vlines(1.1, ymin=0, ymax=1, linestyles='dashed', colors=['green'])\n",
    "plt.legend()\n",
    "plt.xlabel(\"TZ stretch\")\n",
    "plt.ylabel(\"Fraction of paths\")\n",
    "#plt.savefig(\"./figs/static_stretch_distr.svg\");"
   ]
  },
  {
   "cell_type": "markdown",
   "metadata": {},
   "source": [
    "## Link deletion impact"
   ]
  },
  {
   "cell_type": "markdown",
   "metadata": {},
   "source": [
    "An impact file contains the following columns\n",
    "  - `endpoint1` The asn of the first node\n",
    "  - `endpoint2` The asn of the second node\n",
    "  - `degree1` The number of links (before deletion) of the 1st node\n",
    "  - `degree2` The number of links (before deletion) of the 2nd node\n",
    "  - `impact` The number of nodes that must send/receive updates"
   ]
  },
  {
   "cell_type": "code",
   "execution_count": 12,
   "metadata": {},
   "outputs": [],
   "source": [
    "def import_impact(filename):\n",
    "    df = pd.read_csv(filename, names=[\"endpoint1\", \"endpoint2\", \"degree1\", \"degree2\", \"impact\"])\n",
    "    return df"
   ]
  },
  {
   "cell_type": "code",
   "execution_count": 13,
   "metadata": {},
   "outputs": [],
   "source": [
    "# Save impact to file\n",
    "# link_del_impact.to_csv(\"./simulation/data/full-impact-2000.csv\", index=False, header=False)"
   ]
  },
  {
   "cell_type": "code",
   "execution_count": 14,
   "metadata": {},
   "outputs": [],
   "source": [
    "dataset_name = \"full-impact-4000\""
   ]
  },
  {
   "cell_type": "code",
   "execution_count": 15,
   "metadata": {},
   "outputs": [
    {
     "data": {
      "text/html": [
       "<div>\n",
       "<style scoped>\n",
       "    .dataframe tbody tr th:only-of-type {\n",
       "        vertical-align: middle;\n",
       "    }\n",
       "\n",
       "    .dataframe tbody tr th {\n",
       "        vertical-align: top;\n",
       "    }\n",
       "\n",
       "    .dataframe thead th {\n",
       "        text-align: right;\n",
       "    }\n",
       "</style>\n",
       "<table border=\"1\" class=\"dataframe\">\n",
       "  <thead>\n",
       "    <tr style=\"text-align: right;\">\n",
       "      <th></th>\n",
       "      <th>endpoint1</th>\n",
       "      <th>endpoint2</th>\n",
       "      <th>degree1</th>\n",
       "      <th>degree2</th>\n",
       "      <th>impact</th>\n",
       "    </tr>\n",
       "  </thead>\n",
       "  <tbody>\n",
       "    <tr>\n",
       "      <td>0</td>\n",
       "      <td>63159</td>\n",
       "      <td>3741</td>\n",
       "      <td>2</td>\n",
       "      <td>745</td>\n",
       "      <td>2</td>\n",
       "    </tr>\n",
       "    <tr>\n",
       "      <td>1</td>\n",
       "      <td>30421</td>\n",
       "      <td>22773</td>\n",
       "      <td>2</td>\n",
       "      <td>543</td>\n",
       "      <td>2</td>\n",
       "    </tr>\n",
       "    <tr>\n",
       "      <td>2</td>\n",
       "      <td>13893</td>\n",
       "      <td>209</td>\n",
       "      <td>3</td>\n",
       "      <td>1791</td>\n",
       "      <td>3</td>\n",
       "    </tr>\n",
       "    <tr>\n",
       "      <td>3</td>\n",
       "      <td>263722</td>\n",
       "      <td>4323</td>\n",
       "      <td>3</td>\n",
       "      <td>1487</td>\n",
       "      <td>3</td>\n",
       "    </tr>\n",
       "    <tr>\n",
       "      <td>4</td>\n",
       "      <td>267708</td>\n",
       "      <td>4323</td>\n",
       "      <td>2</td>\n",
       "      <td>1486</td>\n",
       "      <td>2</td>\n",
       "    </tr>\n",
       "    <tr>\n",
       "      <td>...</td>\n",
       "      <td>...</td>\n",
       "      <td>...</td>\n",
       "      <td>...</td>\n",
       "      <td>...</td>\n",
       "      <td>...</td>\n",
       "    </tr>\n",
       "    <tr>\n",
       "      <td>3995</td>\n",
       "      <td>132394</td>\n",
       "      <td>63956</td>\n",
       "      <td>7</td>\n",
       "      <td>804</td>\n",
       "      <td>7</td>\n",
       "    </tr>\n",
       "    <tr>\n",
       "      <td>3996</td>\n",
       "      <td>204263</td>\n",
       "      <td>51185</td>\n",
       "      <td>6</td>\n",
       "      <td>4270</td>\n",
       "      <td>6</td>\n",
       "    </tr>\n",
       "    <tr>\n",
       "      <td>3997</td>\n",
       "      <td>134626</td>\n",
       "      <td>4787</td>\n",
       "      <td>2</td>\n",
       "      <td>60</td>\n",
       "      <td>2</td>\n",
       "    </tr>\n",
       "    <tr>\n",
       "      <td>3998</td>\n",
       "      <td>204068</td>\n",
       "      <td>43061</td>\n",
       "      <td>2</td>\n",
       "      <td>79</td>\n",
       "      <td>2</td>\n",
       "    </tr>\n",
       "    <tr>\n",
       "      <td>3999</td>\n",
       "      <td>26937</td>\n",
       "      <td>6461</td>\n",
       "      <td>2</td>\n",
       "      <td>1995</td>\n",
       "      <td>2</td>\n",
       "    </tr>\n",
       "  </tbody>\n",
       "</table>\n",
       "<p>4000 rows × 5 columns</p>\n",
       "</div>"
      ],
      "text/plain": [
       "      endpoint1  endpoint2  degree1  degree2  impact\n",
       "0         63159       3741        2      745       2\n",
       "1         30421      22773        2      543       2\n",
       "2         13893        209        3     1791       3\n",
       "3        263722       4323        3     1487       3\n",
       "4        267708       4323        2     1486       2\n",
       "...         ...        ...      ...      ...     ...\n",
       "3995     132394      63956        7      804       7\n",
       "3996     204263      51185        6     4270       6\n",
       "3997     134626       4787        2       60       2\n",
       "3998     204068      43061        2       79       2\n",
       "3999      26937       6461        2     1995       2\n",
       "\n",
       "[4000 rows x 5 columns]"
      ]
     },
     "execution_count": 15,
     "metadata": {},
     "output_type": "execute_result"
    }
   ],
   "source": [
    "link_del_impact = import_impact(\"./simulation/data/\" + dataset_name + \".csv\")\n",
    "link_del_impact"
   ]
  },
  {
   "cell_type": "code",
   "execution_count": 16,
   "metadata": {},
   "outputs": [],
   "source": [
    "deletion_impact = link_del_impact.to_numpy()"
   ]
  },
  {
   "cell_type": "markdown",
   "metadata": {},
   "source": [
    "#### Impact statistics"
   ]
  },
  {
   "cell_type": "code",
   "execution_count": 17,
   "metadata": {},
   "outputs": [
    {
     "name": "stdout",
     "output_type": "stream",
     "text": [
      "The average impact is 21.908, the maximum impact is 13945\n"
     ]
    }
   ],
   "source": [
    "print(\"The average impact is %.3f, the maximum impact is %.0f\" % (deletion_impact[:,4].mean(), deletion_impact[:,4].max()))"
   ]
  },
  {
   "cell_type": "markdown",
   "metadata": {},
   "source": [
    "#### Impact by degree quotient\n",
    "Here, I relate the number of updated nodes with the quotient between the maximum and the minimum degree of the endpoints  "
   ]
  },
  {
   "cell_type": "code",
   "execution_count": 18,
   "metadata": {},
   "outputs": [],
   "source": [
    "abs_deg_val = np.log(np.maximum(deletion_impact[:,2:3], deletion_impact[:,3:4]))"
   ]
  },
  {
   "cell_type": "code",
   "execution_count": 19,
   "metadata": {},
   "outputs": [],
   "source": [
    "degree_quotient_impact = np.concatenate([np.maximum(deletion_impact[:,2:3], deletion_impact[:,3:4])/np.minimum(deletion_impact[:,2:3], deletion_impact[:,3:4]).astype(float), deletion_impact[:,4:5]], axis=1)\n",
    "degree_quotient_impact = degree_quotient_impact[np.argsort(degree_quotient_impact[:,0]),:]"
   ]
  },
  {
   "cell_type": "code",
   "execution_count": 20,
   "metadata": {},
   "outputs": [],
   "source": [
    "degree_quotient_impact = np.array([[x[0,0], x[:,1].mean()] for x in np.split(degree_quotient_impact, np.unique(degree_quotient_impact[:,0], return_index=True)[1])[1:]])"
   ]
  },
  {
   "cell_type": "code",
   "execution_count": 21,
   "metadata": {},
   "outputs": [
    {
     "data": {
      "text/plain": [
       "array([[1.00000000e+00, 3.38596491e+00],\n",
       "       [1.05000000e+00, 2.30000000e+01],\n",
       "       [1.08695652e+00, 4.70000000e+01],\n",
       "       ...,\n",
       "       [4.10650000e+03, 2.00000000e+00],\n",
       "       [4.10950000e+03, 2.00000000e+00],\n",
       "       [4.11150000e+03, 2.72000000e+02]])"
      ]
     },
     "execution_count": 21,
     "metadata": {},
     "output_type": "execute_result"
    }
   ],
   "source": [
    "# Delete entries without updates (y=0)\n",
    "zero_impact_fraction = (degree_quotient_impact[:,1] == 0.).sum() / float(degree_quotient_impact.shape[0])\n",
    "degree_quotient_impact = degree_quotient_impact[degree_quotient_impact[:,1] != 0., :]\n",
    "degree_quotient_impact"
   ]
  },
  {
   "cell_type": "code",
   "execution_count": 22,
   "metadata": {},
   "outputs": [
    {
     "name": "stdout",
     "output_type": "stream",
     "text": [
      "7.07% of the link deletions didn't require any update\n"
     ]
    }
   ],
   "source": [
    "print(\"%.2f%% of the link deletions didn't require any update\" % (zero_impact_fraction*100))"
   ]
  },
  {
   "cell_type": "code",
   "execution_count": 23,
   "metadata": {},
   "outputs": [
    {
     "data": {
      "image/png": "[encoded data removed]",
      "text/plain": [
       "<Figure size 576x432 with 1 Axes>"
      ]
     },
     "metadata": {
      "needs_background": "light"
     },
     "output_type": "display_data"
    }
   ],
   "source": [
    "plt.figure(figsize=(8, 6))\n",
    "plt.title(\"Nodes updated by degree quotient\")\n",
    "plt.scatter(degree_quotient_impact[:,0], degree_quotient_impact[:,1], abs_deg_val * 20, alpha=.15)\n",
    "plt.yscale(\"log\")\n",
    "plt.gca().spines['top'].set_visible(False)\n",
    "plt.gca().spines['right'].set_visible(False)\n",
    "plt.legend([\"Weighted by maximum degree\"])\n",
    "plt.ylabel(\"AS updated\")\n",
    "plt.xlabel(\"Quotient between degrees of endpoints\");\n",
    "#plt.savefig(\"./figs/\" + dataset_name + \"-deg_quotient.svg\")"
   ]
  },
  {
   "cell_type": "code",
   "execution_count": 24,
   "metadata": {},
   "outputs": [
    {
     "data": {
      "image/png": "[encoded data removed]",
      "text/plain": [
       "<Figure size 576x432 with 1 Axes>"
      ]
     },
     "metadata": {
      "needs_background": "light"
     },
     "output_type": "display_data"
    }
   ],
   "source": [
    "plt.figure(figsize=(8, 6))\n",
    "plt.title(\"Nodes updated by degree quotient\")\n",
    "plt.scatter(degree_quotient_impact[:,0], degree_quotient_impact[:,1], alpha=.15)\n",
    "plt.yscale(\"log\")\n",
    "plt.gca().spines['top'].set_visible(False)\n",
    "plt.gca().spines['right'].set_visible(False)\n",
    "plt.ylabel(\"AS updated\")\n",
    "plt.xlabel(\"Quotient between degrees of endpoints\");"
   ]
  },
  {
   "cell_type": "code",
   "execution_count": 25,
   "metadata": {},
   "outputs": [],
   "source": [
    "rng = []\n",
    "i = 1\n",
    "step = 5\n",
    "for idx, x in enumerate(degree_quotient_impact[:,0]):\n",
    "    if x > step * i:\n",
    "        rng.append(idx)\n",
    "        i += 1"
   ]
  },
  {
   "cell_type": "code",
   "execution_count": 26,
   "metadata": {},
   "outputs": [],
   "source": [
    "quotient_cat_degree = np.array([[x[0,0], x[:,1].mean()] for x in np.split(degree_quotient_impact, rng)[1:]])"
   ]
  },
  {
   "cell_type": "code",
   "execution_count": 27,
   "metadata": {},
   "outputs": [
    {
     "data": {
      "image/png": "[encoded data removed]",
      "text/plain": [
       "<Figure size 432x288 with 1 Axes>"
      ]
     },
     "metadata": {
      "needs_background": "light"
     },
     "output_type": "display_data"
    }
   ],
   "source": [
    "plt.scatter(quotient_cat_degree[:,0], quotient_cat_degree[:,1])\n",
    "plt.yscale(\"log\")"
   ]
  },
  {
   "cell_type": "markdown",
   "metadata": {},
   "source": [
    "## Link deletion stretch increase"
   ]
  },
  {
   "cell_type": "markdown",
   "metadata": {},
   "source": [
    "File `full-deletion-stretch-2000.csv` was obtained restarting 3 times:\n",
    " - after 1383 links deleted\n",
    " - after 1687 links deleted"
   ]
  },
  {
   "cell_type": "code",
   "execution_count": 28,
   "metadata": {},
   "outputs": [],
   "source": [
    "def import_stretch_increase(filename):\n",
    "    df = pd.read_csv(filename, names=[\"baseline_before\", \"audited_before\", \"baseline_after\", \"audited_after\"])\n",
    "    return df"
   ]
  },
  {
   "cell_type": "code",
   "execution_count": 29,
   "metadata": {},
   "outputs": [
    {
     "data": {
      "text/html": [
       "<div>\n",
       "<style scoped>\n",
       "    .dataframe tbody tr th:only-of-type {\n",
       "        vertical-align: middle;\n",
       "    }\n",
       "\n",
       "    .dataframe tbody tr th {\n",
       "        vertical-align: top;\n",
       "    }\n",
       "\n",
       "    .dataframe thead th {\n",
       "        text-align: right;\n",
       "    }\n",
       "</style>\n",
       "<table border=\"1\" class=\"dataframe\">\n",
       "  <thead>\n",
       "    <tr style=\"text-align: right;\">\n",
       "      <th></th>\n",
       "      <th>baseline_before</th>\n",
       "      <th>audited_before</th>\n",
       "      <th>baseline_after</th>\n",
       "      <th>audited_after</th>\n",
       "    </tr>\n",
       "  </thead>\n",
       "  <tbody>\n",
       "    <tr>\n",
       "      <td>0</td>\n",
       "      <td>2</td>\n",
       "      <td>4</td>\n",
       "      <td>3</td>\n",
       "      <td>4</td>\n",
       "    </tr>\n",
       "    <tr>\n",
       "      <td>1</td>\n",
       "      <td>2</td>\n",
       "      <td>3</td>\n",
       "      <td>3</td>\n",
       "      <td>3</td>\n",
       "    </tr>\n",
       "    <tr>\n",
       "      <td>2</td>\n",
       "      <td>2</td>\n",
       "      <td>4</td>\n",
       "      <td>3</td>\n",
       "      <td>4</td>\n",
       "    </tr>\n",
       "    <tr>\n",
       "      <td>3</td>\n",
       "      <td>2</td>\n",
       "      <td>2</td>\n",
       "      <td>3</td>\n",
       "      <td>5</td>\n",
       "    </tr>\n",
       "    <tr>\n",
       "      <td>4</td>\n",
       "      <td>2</td>\n",
       "      <td>4</td>\n",
       "      <td>3</td>\n",
       "      <td>4</td>\n",
       "    </tr>\n",
       "    <tr>\n",
       "      <td>...</td>\n",
       "      <td>...</td>\n",
       "      <td>...</td>\n",
       "      <td>...</td>\n",
       "      <td>...</td>\n",
       "    </tr>\n",
       "    <tr>\n",
       "      <td>1995</td>\n",
       "      <td>2</td>\n",
       "      <td>2</td>\n",
       "      <td>3</td>\n",
       "      <td>6</td>\n",
       "    </tr>\n",
       "    <tr>\n",
       "      <td>1996</td>\n",
       "      <td>2</td>\n",
       "      <td>3</td>\n",
       "      <td>3</td>\n",
       "      <td>3</td>\n",
       "    </tr>\n",
       "    <tr>\n",
       "      <td>1997</td>\n",
       "      <td>2</td>\n",
       "      <td>4</td>\n",
       "      <td>3</td>\n",
       "      <td>4</td>\n",
       "    </tr>\n",
       "    <tr>\n",
       "      <td>1998</td>\n",
       "      <td>2</td>\n",
       "      <td>2</td>\n",
       "      <td>4</td>\n",
       "      <td>4</td>\n",
       "    </tr>\n",
       "    <tr>\n",
       "      <td>1999</td>\n",
       "      <td>2</td>\n",
       "      <td>3</td>\n",
       "      <td>3</td>\n",
       "      <td>3</td>\n",
       "    </tr>\n",
       "  </tbody>\n",
       "</table>\n",
       "<p>2000 rows × 4 columns</p>\n",
       "</div>"
      ],
      "text/plain": [
       "      baseline_before  audited_before  baseline_after  audited_after\n",
       "0                   2               4               3              4\n",
       "1                   2               3               3              3\n",
       "2                   2               4               3              4\n",
       "3                   2               2               3              5\n",
       "4                   2               4               3              4\n",
       "...               ...             ...             ...            ...\n",
       "1995                2               2               3              6\n",
       "1996                2               3               3              3\n",
       "1997                2               4               3              4\n",
       "1998                2               2               4              4\n",
       "1999                2               3               3              3\n",
       "\n",
       "[2000 rows x 4 columns]"
      ]
     },
     "execution_count": 29,
     "metadata": {},
     "output_type": "execute_result"
    }
   ],
   "source": [
    "pd_deletion_stretch = import_stretch_increase(\"./simulation/data/full-deletion-stretch-2000.csv\")\n",
    "pd_deletion_stretch"
   ]
  },
  {
   "cell_type": "code",
   "execution_count": 30,
   "metadata": {},
   "outputs": [],
   "source": [
    "deletion_stretch = pd_deletion_stretch.to_numpy().astype(float)"
   ]
  },
  {
   "cell_type": "code",
   "execution_count": 31,
   "metadata": {},
   "outputs": [],
   "source": [
    "# Measure hops and not nodes\n",
    "deletion_stretch = deletion_stretch - 1"
   ]
  },
  {
   "cell_type": "code",
   "execution_count": 32,
   "metadata": {},
   "outputs": [],
   "source": [
    "stretch_before = deletion_stretch[:,1] / deletion_stretch[:,0]\n",
    "stretch_after = deletion_stretch[:,3] / deletion_stretch[:,2]"
   ]
  },
  {
   "cell_type": "code",
   "execution_count": 33,
   "metadata": {},
   "outputs": [
    {
     "data": {
      "text/plain": [
       "<matplotlib.collections.PathCollection at 0x26a5fcf33c8>"
      ]
     },
     "execution_count": 33,
     "metadata": {},
     "output_type": "execute_result"
    },
    {
     "data": {
      "image/png": "[encoded data removed]",
      "text/plain": [
       "<Figure size 432x288 with 1 Axes>"
      ]
     },
     "metadata": {
      "needs_background": "light"
     },
     "output_type": "display_data"
    }
   ],
   "source": [
    "plt.scatter(stretch_before, stretch_after, alpha=.4)"
   ]
  },
  {
   "cell_type": "code",
   "execution_count": 34,
   "metadata": {},
   "outputs": [
    {
     "data": {
      "text/plain": [
       "array([0.5       , 0.5       , 1.5       , 1.5       , 1.5       ,\n",
       "       0.5       , 0.5       , 0.75      , 0.5       , 1.5       ,\n",
       "       0.66666667, 0.25      , 1.5       , 0.33333333, 0.5       ,\n",
       "       0.42857143, 1.5       , 0.66666667, 0.75      , 1.5       ,\n",
       "       0.6       , 0.5       , 0.33333333, 1.5       , 0.6       ,\n",
       "       1.5       , 0.4       , 1.5       , 0.4       , 0.16666667,\n",
       "       0.5       , 1.5       , 0.5       , 0.5       , 0.33333333,\n",
       "       0.28571429, 0.5       , 0.33333333, 1.5       , 0.4       ,\n",
       "       0.4       , 0.5       , 0.33333333, 1.5       , 1.5       ,\n",
       "       0.75      , 0.33333333, 0.4       , 0.6       , 0.28571429,\n",
       "       0.25      , 1.5       , 0.5       , 0.5       , 0.5       ,\n",
       "       0.33333333, 0.75      , 0.125     , 0.11111111, 0.5       ,\n",
       "       0.5       , 0.5       , 1.5       , 0.5       , 1.5       ,\n",
       "       0.6       , 0.5       , 1.5       , 0.125     , 0.25      ,\n",
       "       1.5       , 0.33333333, 0.42857143, 0.5       , 0.5       ,\n",
       "       0.09090909, 1.5       , 1.5       , 0.5       , 0.5       ,\n",
       "       0.16666667, 1.5       , 0.2       , 0.33333333, 0.22222222,\n",
       "       0.33333333, 0.5       , 1.5       , 0.25      , 0.5       ,\n",
       "       1.5       , 0.5       , 0.28571429, 0.42857143, 0.33333333,\n",
       "       0.33333333, 0.33333333, 0.2       , 0.5       , 0.5       ])"
      ]
     },
     "execution_count": 34,
     "metadata": {},
     "output_type": "execute_result"
    }
   ],
   "source": [
    "stretch_before[np.nonzero(stretch_before % 1 != 0)]"
   ]
  },
  {
   "cell_type": "code",
   "execution_count": 35,
   "metadata": {},
   "outputs": [
    {
     "data": {
      "image/png": "[encoded data removed]",
      "text/plain": [
       "<Figure size 432x288 with 1 Axes>"
      ]
     },
     "metadata": {
      "needs_background": "light"
     },
     "output_type": "display_data"
    }
   ],
   "source": [
    "plt.scatter(deletion_stretch[:,1], stretch_after / stretch_before, alpha=.3)\n",
    "plt.xlabel(\"Original TZ length\")\n",
    "plt.ylabel(\"Stretch increase\")\n",
    "plt.yscale(\"log\")\n",
    "plt.hlines(1, xmin=1, xmax=5);"
   ]
  },
  {
   "cell_type": "markdown",
   "metadata": {},
   "source": [
    "## Effect of multiple edge deletions on stretch"
   ]
  },
  {
   "cell_type": "markdown",
   "metadata": {},
   "source": [
    "Starting from `cumulative-deletions-3x.1.csv` the first stretch measurement is performed **before** deleting any links"
   ]
  },
  {
   "cell_type": "code",
   "execution_count": 3,
   "metadata": {},
   "outputs": [],
   "source": [
    "def import_cumulative_deletions(filename):\n",
    "    df = pd.read_csv(filename, names=[\"baseline_stretch\", \"audited_stretch\", \"respects_no_valley\"])\n",
    "    return df"
   ]
  },
  {
   "cell_type": "code",
   "execution_count": 4,
   "metadata": {},
   "outputs": [],
   "source": [
    "def stretch_statistics_by_round(round_data):\n",
    "    return ((round_data[:,1]/round_data[:,0]).mean(), round_data[:,2].mean())"
   ]
  },
  {
   "cell_type": "code",
   "execution_count": 12,
   "metadata": {},
   "outputs": [],
   "source": [
    "def crunch_cumulative_deletions(filename):\n",
    "    cumul_deletions = import_cumulative_deletions(filename)\n",
    "    cumul_deletions = cumul_deletions.to_numpy()\n",
    "    \n",
    "    # Find lines that mark the beginning of a round (with the form [-round_num, -round_num, -round_num])\n",
    "    cumul_by_round = np.split(cumul_deletions.astype(float), np.nonzero(np.sum(cumul_deletions, axis=1) < 1)[0])[1:]\n",
    "    \n",
    "    # Delete the markers\n",
    "    cumul_by_round = [rd[1:] for rd in cumul_by_round]\n",
    "    \n",
    "    return [stretch_statistics_by_round(r) for r in cumul_by_round], cumul_by_round[0].shape[0]"
   ]
  },
  {
   "cell_type": "code",
   "execution_count": 13,
   "metadata": {},
   "outputs": [],
   "source": [
    "cumul_statistics_8_05, round_samples_8_05 = crunch_cumulative_deletions(\"./simulation/data/cumulative-deletions-8x.05.csv\")\n",
    "cumul_statistics_12_05, round_samples_12_05 = crunch_cumulative_deletions(\"./simulation/data/cumulative-deletions-12x.05.csv\")"
   ]
  },
  {
   "cell_type": "code",
   "execution_count": 14,
   "metadata": {},
   "outputs": [
    {
     "data": {
      "text/plain": [
       "(794, 1198)"
      ]
     },
     "execution_count": 14,
     "metadata": {},
     "output_type": "execute_result"
    }
   ],
   "source": [
    "round_samples_8_05,  round_samples_12_05"
   ]
  },
  {
   "cell_type": "code",
   "execution_count": 15,
   "metadata": {},
   "outputs": [
    {
     "data": {
      "text/plain": [
       "([(1.11306469908485, 0.10831234256926953),\n",
       "  (1.1085060040462051, 0.11180904522613065),\n",
       "  (1.1407932468375506, 0.1189873417721519),\n",
       "  (1.1492217051619849, 0.15374841168996187),\n",
       "  (1.1445051830255912, 0.125),\n",
       "  (1.1606497401484548, 0.13881748071979436),\n",
       "  (1.1771827009374902, 0.17113665389527458),\n",
       "  (1.1649907947449993, 0.17335058214747737)],\n",
       " [(1.0871501295958725, 0.11268781302170283),\n",
       "  (1.119884124078755, 0.12416107382550336),\n",
       "  (1.1439018371960537, 0.11399832355406538),\n",
       "  (1.1426329165340154, 0.13609467455621302),\n",
       "  (1.146667894823111, 0.13825275657336725),\n",
       "  (1.1657721530170508, 0.13945578231292516),\n",
       "  (1.167336213563835, 0.14407502131287298),\n",
       "  (1.1602986777040134, 0.17900172117039587),\n",
       "  (1.1840310915758487, 0.17988064791133845),\n",
       "  (1.1759990396749977, 0.1994773519163763),\n",
       "  (1.1801398630130295, 0.19413287316652286),\n",
       "  (1.192765084944347, 0.22319859402460457)])"
      ]
     },
     "execution_count": 15,
     "metadata": {},
     "output_type": "execute_result"
    }
   ],
   "source": [
    "cumul_statistics_8_05, cumul_statistics_12_05"
   ]
  },
  {
   "cell_type": "code",
   "execution_count": 16,
   "metadata": {},
   "outputs": [],
   "source": [
    "deletion_proportion = .05\n",
    "full_edges_num = 466982"
   ]
  },
  {
   "cell_type": "code",
   "execution_count": 28,
   "metadata": {},
   "outputs": [],
   "source": [
    "deleted_edges_by_round = [100 * deletion_proportion * (math.pow(1 - deletion_proportion, k)-1) / float(-deletion_proportion) for k in range(0, 13)]"
   ]
  },
  {
   "cell_type": "code",
   "execution_count": 29,
   "metadata": {},
   "outputs": [
    {
     "data": {
      "text/plain": [
       "[-0.0,\n",
       " 5.000000000000004,\n",
       " 9.750000000000002,\n",
       " 14.26250000000001,\n",
       " 18.549375000000012,\n",
       " 22.621906250000023,\n",
       " 26.490810937500022,\n",
       " 30.166270390625026,\n",
       " 33.65795687109377,\n",
       " 36.97505902753909,\n",
       " 40.12630607616213,\n",
       " 43.11999077235403,\n",
       " 45.96399123373633]"
      ]
     },
     "execution_count": 29,
     "metadata": {},
     "output_type": "execute_result"
    }
   ],
   "source": [
    "deleted_edges_by_round"
   ]
  },
  {
   "cell_type": "code",
   "execution_count": 33,
   "metadata": {},
   "outputs": [
    {
     "data": {
      "text/plain": [
       "Text(0, 0.5, 'Average stretch')"
      ]
     },
     "execution_count": 33,
     "metadata": {},
     "output_type": "execute_result"
    },
    {
     "data": {
      "image/png": "[encoded data removed]",
      "text/plain": [
       "<Figure size 432x288 with 1 Axes>"
      ]
     },
     "metadata": {
      "needs_background": "light"
     },
     "output_type": "display_data"
    }
   ],
   "source": [
    "plt.plot(deleted_edges_by_round[:8], [c[0] for c in cumul_statistics_8_05])\n",
    "plt.plot(deleted_edges_by_round[:12], [c[0] for c in cumul_statistics_12_05])\n",
    "plt.xlabel(\"% of edges deleted\")\n",
    "plt.ylabel(\"Average stretch\")"
   ]
  },
  {
   "cell_type": "code",
   "execution_count": null,
   "metadata": {},
   "outputs": [],
   "source": []
  }
 ],
 "metadata": {
  "kernelspec": {
   "display_name": "Python 3",
   "language": "python",
   "name": "python3"
  },
  "language_info": {
   "codemirror_mode": {
    "name": "ipython",
    "version": 3
   },
   "file_extension": ".py",
   "mimetype": "text/x-python",
   "name": "python",
   "nbconvert_exporter": "python",
   "pygments_lexer": "ipython3",
   "version": "3.7.4"
  }
 },
 "nbformat": 4,
 "nbformat_minor": 2
}
